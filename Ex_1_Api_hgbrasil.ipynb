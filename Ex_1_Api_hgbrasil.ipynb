{
  "nbformat": 4,
  "nbformat_minor": 0,
  "metadata": {
    "colab": {
      "provenance": [],
      "authorship_tag": "ABX9TyNaQr2J9kuBbkhoxgvdnyeG",
      "include_colab_link": true
    },
    "kernelspec": {
      "name": "python3",
      "display_name": "Python 3"
    },
    "language_info": {
      "name": "python"
    }
  },
  "cells": [
    {
      "cell_type": "markdown",
      "metadata": {
        "id": "view-in-github",
        "colab_type": "text"
      },
      "source": [
        "<a href=\"https://colab.research.google.com/github/GuxtaSi/S.D_ConsumindoApi-Ex-1/blob/main/Ex_1_Api_hgbrasil.ipynb\" target=\"_parent\"><img src=\"https://colab.research.google.com/assets/colab-badge.svg\" alt=\"Open In Colab\"/></a>"
      ]
    },
    {
      "cell_type": "markdown",
      "source": [
        "Esta Api que consome os dados do site hg brasil , puxa o valor em reais e converte em euro ou dolar com os dados disponiveis na hg"
      ],
      "metadata": {
        "id": "jD8ti5-gag9Z"
      }
    },
    {
      "cell_type": "code",
      "execution_count": 5,
      "metadata": {
        "colab": {
          "base_uri": "https://localhost:8080/"
        },
        "id": "9MHyezvlYlks",
        "outputId": "fbc12b5a-33ed-45fd-f9a9-5378d9e03d4e"
      },
      "outputs": [
        {
          "output_type": "stream",
          "name": "stdout",
          "text": [
            " digite seu valor (reais)60\n",
            "valor em dolar: 11.691576219333971 \n",
            "valor em Euro: 11.876249480414085 \n"
          ]
        }
      ],
      "source": [
        "import requests\n",
        "\n",
        "URl = 'https://api.hgbrasil.com/finance?key=ba31c5c8'\n",
        "\n",
        "\n",
        "def data():\n",
        "\n",
        "    resposta = requests.get(URl)\n",
        "    value = resposta.json()\n",
        "    usd_value=(value['results']['currencies']['USD']['buy'])\n",
        "    eur_value=(value['results']['currencies']['EUR']['buy'])\n",
        "    real_value=float(input(' digite seu valor (reais):'))\n",
        "    return f'valor em dolar: {real_value/usd_value} ' \\\n",
        "           f'\\nvalor em Euro: {real_value/eur_value} '\n",
        "\n",
        "print(data())"
      ]
    }
  ]
}